{
 "cells": [
  {
   "cell_type": "code",
   "execution_count": 21,
   "id": "complicated-canal",
   "metadata": {},
   "outputs": [],
   "source": [
    "%matplotlib inline\n",
    "import os\n",
    "import pickle\n",
    "import numpy as np\n",
    "import random as python_random\n",
    "import sklearn\n",
    "from sklearn.model_selection import RandomizedSearchCV, RepeatedKFold\n",
    "from sklearn.model_selection import train_test_split\n",
    "from sklearn.metrics import mean_squared_error\n",
    "from scipy.stats import uniform, loguniform, randint\n",
    "import pandas as pd\n",
    "import xgboost\n",
    "import matplotlib.pyplot as plt\n",
    "from scipy import stats\n",
    "import seaborn as sns"
   ]
  },
  {
   "cell_type": "code",
   "execution_count": 22,
   "id": "pending-quantum",
   "metadata": {},
   "outputs": [],
   "source": [
    "# if os.getcwd().split(\"/\")[-1] != 'intern-take-home-assessment':\n",
    "#     os.chdir(\"./code/3m-internship/intern-take-home-assessment\")"
   ]
  },
  {
   "cell_type": "markdown",
   "id": "abstract-action",
   "metadata": {},
   "source": [
    "## Load Inference Data"
   ]
  },
  {
   "cell_type": "code",
   "execution_count": 23,
   "id": "threaded-whale",
   "metadata": {},
   "outputs": [],
   "source": [
    "infer_data = pd.read_csv('./preppared-data/infer-data.csv')"
   ]
  },
  {
   "cell_type": "code",
   "execution_count": 24,
   "id": "dress-playing",
   "metadata": {},
   "outputs": [
    {
     "data": {
      "text/html": [
       "<div>\n",
       "<style scoped>\n",
       "    .dataframe tbody tr th:only-of-type {\n",
       "        vertical-align: middle;\n",
       "    }\n",
       "\n",
       "    .dataframe tbody tr th {\n",
       "        vertical-align: top;\n",
       "    }\n",
       "\n",
       "    .dataframe thead th {\n",
       "        text-align: right;\n",
       "    }\n",
       "</style>\n",
       "<table border=\"1\" class=\"dataframe\">\n",
       "  <thead>\n",
       "    <tr style=\"text-align: right;\">\n",
       "      <th></th>\n",
       "      <th>location_id</th>\n",
       "      <th>date</th>\n",
       "      <th>temperature</th>\n",
       "      <th>pressure</th>\n",
       "      <th>humidity</th>\n",
       "      <th>cloudy</th>\n",
       "      <th>precipitation</th>\n",
       "      <th>season</th>\n",
       "      <th>is_weekend</th>\n",
       "      <th>population</th>\n",
       "      <th>...</th>\n",
       "      <th>month_03</th>\n",
       "      <th>month_04</th>\n",
       "      <th>month_05</th>\n",
       "      <th>month_06</th>\n",
       "      <th>month_07</th>\n",
       "      <th>month_08</th>\n",
       "      <th>month_09</th>\n",
       "      <th>month_10</th>\n",
       "      <th>month_11</th>\n",
       "      <th>month_12</th>\n",
       "    </tr>\n",
       "  </thead>\n",
       "  <tbody>\n",
       "    <tr>\n",
       "      <th>0</th>\n",
       "      <td>13</td>\n",
       "      <td>2022-06-27</td>\n",
       "      <td>77.54</td>\n",
       "      <td>987.112676</td>\n",
       "      <td>0.97</td>\n",
       "      <td>0</td>\n",
       "      <td>0</td>\n",
       "      <td>summer</td>\n",
       "      <td>0</td>\n",
       "      <td>68818</td>\n",
       "      <td>...</td>\n",
       "      <td>0</td>\n",
       "      <td>0</td>\n",
       "      <td>0</td>\n",
       "      <td>1</td>\n",
       "      <td>0</td>\n",
       "      <td>0</td>\n",
       "      <td>0</td>\n",
       "      <td>0</td>\n",
       "      <td>0</td>\n",
       "      <td>0</td>\n",
       "    </tr>\n",
       "    <tr>\n",
       "      <th>1</th>\n",
       "      <td>12</td>\n",
       "      <td>2022-04-29</td>\n",
       "      <td>47.12</td>\n",
       "      <td>979.084507</td>\n",
       "      <td>0.99</td>\n",
       "      <td>0</td>\n",
       "      <td>0</td>\n",
       "      <td>summer</td>\n",
       "      <td>0</td>\n",
       "      <td>196528</td>\n",
       "      <td>...</td>\n",
       "      <td>0</td>\n",
       "      <td>1</td>\n",
       "      <td>0</td>\n",
       "      <td>0</td>\n",
       "      <td>0</td>\n",
       "      <td>0</td>\n",
       "      <td>0</td>\n",
       "      <td>0</td>\n",
       "      <td>0</td>\n",
       "      <td>0</td>\n",
       "    </tr>\n",
       "    <tr>\n",
       "      <th>2</th>\n",
       "      <td>11</td>\n",
       "      <td>2022-09-08</td>\n",
       "      <td>65.84</td>\n",
       "      <td>991.126761</td>\n",
       "      <td>0.80</td>\n",
       "      <td>1</td>\n",
       "      <td>0</td>\n",
       "      <td>winter</td>\n",
       "      <td>0</td>\n",
       "      <td>121465</td>\n",
       "      <td>...</td>\n",
       "      <td>0</td>\n",
       "      <td>0</td>\n",
       "      <td>0</td>\n",
       "      <td>0</td>\n",
       "      <td>0</td>\n",
       "      <td>0</td>\n",
       "      <td>1</td>\n",
       "      <td>0</td>\n",
       "      <td>0</td>\n",
       "      <td>0</td>\n",
       "    </tr>\n",
       "    <tr>\n",
       "      <th>3</th>\n",
       "      <td>13</td>\n",
       "      <td>2022-09-12</td>\n",
       "      <td>56.48</td>\n",
       "      <td>1008.967136</td>\n",
       "      <td>0.57</td>\n",
       "      <td>0</td>\n",
       "      <td>0</td>\n",
       "      <td>winter</td>\n",
       "      <td>0</td>\n",
       "      <td>68818</td>\n",
       "      <td>...</td>\n",
       "      <td>0</td>\n",
       "      <td>0</td>\n",
       "      <td>0</td>\n",
       "      <td>0</td>\n",
       "      <td>0</td>\n",
       "      <td>0</td>\n",
       "      <td>1</td>\n",
       "      <td>0</td>\n",
       "      <td>0</td>\n",
       "      <td>0</td>\n",
       "    </tr>\n",
       "    <tr>\n",
       "      <th>4</th>\n",
       "      <td>12</td>\n",
       "      <td>2022-04-18</td>\n",
       "      <td>50.00</td>\n",
       "      <td>1040.856808</td>\n",
       "      <td>0.88</td>\n",
       "      <td>0</td>\n",
       "      <td>0</td>\n",
       "      <td>summer</td>\n",
       "      <td>0</td>\n",
       "      <td>196528</td>\n",
       "      <td>...</td>\n",
       "      <td>0</td>\n",
       "      <td>1</td>\n",
       "      <td>0</td>\n",
       "      <td>0</td>\n",
       "      <td>0</td>\n",
       "      <td>0</td>\n",
       "      <td>0</td>\n",
       "      <td>0</td>\n",
       "      <td>0</td>\n",
       "      <td>0</td>\n",
       "    </tr>\n",
       "  </tbody>\n",
       "</table>\n",
       "<p>5 rows × 23 columns</p>\n",
       "</div>"
      ],
      "text/plain": [
       "   location_id        date  temperature     pressure  humidity  cloudy  \\\n",
       "0           13  2022-06-27        77.54   987.112676      0.97       0   \n",
       "1           12  2022-04-29        47.12   979.084507      0.99       0   \n",
       "2           11  2022-09-08        65.84   991.126761      0.80       1   \n",
       "3           13  2022-09-12        56.48  1008.967136      0.57       0   \n",
       "4           12  2022-04-18        50.00  1040.856808      0.88       0   \n",
       "\n",
       "   precipitation  season  is_weekend  population  ...  month_03  month_04  \\\n",
       "0              0  summer           0       68818  ...         0         0   \n",
       "1              0  summer           0      196528  ...         0         1   \n",
       "2              0  winter           0      121465  ...         0         0   \n",
       "3              0  winter           0       68818  ...         0         0   \n",
       "4              0  summer           0      196528  ...         0         1   \n",
       "\n",
       "   month_05  month_06  month_07  month_08  month_09  month_10  month_11  \\\n",
       "0         0         1         0         0         0         0         0   \n",
       "1         0         0         0         0         0         0         0   \n",
       "2         0         0         0         0         1         0         0   \n",
       "3         0         0         0         0         1         0         0   \n",
       "4         0         0         0         0         0         0         0   \n",
       "\n",
       "   month_12  \n",
       "0         0  \n",
       "1         0  \n",
       "2         0  \n",
       "3         0  \n",
       "4         0  \n",
       "\n",
       "[5 rows x 23 columns]"
      ]
     },
     "execution_count": 24,
     "metadata": {},
     "output_type": "execute_result"
    }
   ],
   "source": [
    "infer_data.head()"
   ]
  },
  {
   "cell_type": "markdown",
   "id": "genetic-artwork",
   "metadata": {},
   "source": [
    "We make the data ready for inference by removing extra columns and converting it to a numpy array."
   ]
  },
  {
   "cell_type": "code",
   "execution_count": 25,
   "id": "timely-happiness",
   "metadata": {},
   "outputs": [
    {
     "name": "stdout",
     "output_type": "stream",
     "text": [
      "X_infer.shape: (855, 20)\n"
     ]
    }
   ],
   "source": [
    "X_infer = infer_data.drop(columns=['location_id', 'date', 'season']).to_numpy()\n",
    "print(f'X_infer.shape: {X_infer.shape}')"
   ]
  },
  {
   "cell_type": "markdown",
   "id": "liberal-reunion",
   "metadata": {},
   "source": [
    "## Make Inference"
   ]
  },
  {
   "cell_type": "code",
   "execution_count": 26,
   "id": "exotic-stupid",
   "metadata": {},
   "outputs": [],
   "source": [
    "model = pickle.load(open('./stored-models/xgb_reg.sav', 'rb'))\n",
    "infer_data['predicted_profit'] = model.predict(X_infer)"
   ]
  },
  {
   "cell_type": "markdown",
   "id": "technical-johnston",
   "metadata": {},
   "source": [
    "## Results"
   ]
  },
  {
   "cell_type": "markdown",
   "id": "streaming-pitch",
   "metadata": {},
   "source": [
    "Since we do not have weather data of all locations for each data in the dataset, instead of comparing the sum of the profit of each location from from January 1st through October 30th of 2022, we compare the average daily profit, by summing up the profits of each locations and dividing them by the number of days that we have data for each locations."
   ]
  },
  {
   "cell_type": "code",
   "execution_count": 27,
   "id": "detected-nowhere",
   "metadata": {},
   "outputs": [
    {
     "data": {
      "text/html": [
       "<div>\n",
       "<style scoped>\n",
       "    .dataframe tbody tr th:only-of-type {\n",
       "        vertical-align: middle;\n",
       "    }\n",
       "\n",
       "    .dataframe tbody tr th {\n",
       "        vertical-align: top;\n",
       "    }\n",
       "\n",
       "    .dataframe thead tr th {\n",
       "        text-align: left;\n",
       "    }\n",
       "\n",
       "    .dataframe thead tr:last-of-type th {\n",
       "        text-align: right;\n",
       "    }\n",
       "</style>\n",
       "<table border=\"1\" class=\"dataframe\">\n",
       "  <thead>\n",
       "    <tr>\n",
       "      <th></th>\n",
       "      <th>predicted_profit</th>\n",
       "    </tr>\n",
       "    <tr>\n",
       "      <th></th>\n",
       "      <th>mean</th>\n",
       "    </tr>\n",
       "    <tr>\n",
       "      <th>location_id</th>\n",
       "      <th></th>\n",
       "    </tr>\n",
       "  </thead>\n",
       "  <tbody>\n",
       "    <tr>\n",
       "      <th>11</th>\n",
       "      <td>26.127272</td>\n",
       "    </tr>\n",
       "    <tr>\n",
       "      <th>12</th>\n",
       "      <td>26.169758</td>\n",
       "    </tr>\n",
       "    <tr>\n",
       "      <th>13</th>\n",
       "      <td>26.103027</td>\n",
       "    </tr>\n",
       "  </tbody>\n",
       "</table>\n",
       "</div>"
      ],
      "text/plain": [
       "            predicted_profit\n",
       "                        mean\n",
       "location_id                 \n",
       "11                 26.127272\n",
       "12                 26.169758\n",
       "13                 26.103027"
      ]
     },
     "execution_count": 27,
     "metadata": {},
     "output_type": "execute_result"
    }
   ],
   "source": [
    "infer_data.groupby(['location_id'])[['predicted_profit']].agg(['mean'])"
   ]
  },
  {
   "cell_type": "markdown",
   "id": "identical-syndicate",
   "metadata": {},
   "source": [
    "Although avaergae daily profit is higher for location Id 11, the following t-test shows that the difference between the means of profit is not statistically significant for confidence level of 95%."
   ]
  },
  {
   "cell_type": "code",
   "execution_count": 28,
   "id": "controlled-runner",
   "metadata": {},
   "outputs": [
    {
     "name": "stdout",
     "output_type": "stream",
     "text": [
      "T-test for mean profit difference of location Ids 11 and 12: Ttest_indResult(statistic=0.603094002164363, pvalue=0.546686886362121)\n",
      "T-test for mean profit difference of location Ids 11 and 13: Ttest_indResult(statistic=0.3414041133623428, pvalue=0.7329263093106274)\n",
      "T-test for mean profit difference of location Ids 12 and 13: Ttest_indResult(statistic=0.9581578575814464, pvalue=0.3383886767962647)\n"
     ]
    }
   ],
   "source": [
    "l_11_profit = infer_data[infer_data.location_id == 11].predicted_profit.values \n",
    "l_12_profit = infer_data[infer_data.location_id == 12].predicted_profit.values\n",
    "l_13_profit = infer_data[infer_data.location_id == 13].predicted_profit.values\n",
    "print(f\"T-test for mean profit difference of location Ids 11 and 12: {stats.ttest_ind(l_12_profit, l_11_profit)}\")\n",
    "print(f\"T-test for mean profit difference of location Ids 11 and 13: {stats.ttest_ind(l_11_profit, l_13_profit)}\")\n",
    "print(f\"T-test for mean profit difference of location Ids 12 and 13: {stats.ttest_ind(l_12_profit, l_13_profit)}\")"
   ]
  },
  {
   "cell_type": "markdown",
   "id": "eight-sunglasses",
   "metadata": {},
   "source": [
    "Next we look at the average daily profit, based on season."
   ]
  },
  {
   "cell_type": "code",
   "execution_count": 29,
   "id": "attractive-works",
   "metadata": {},
   "outputs": [
    {
     "data": {
      "text/html": [
       "<div>\n",
       "<style scoped>\n",
       "    .dataframe tbody tr th:only-of-type {\n",
       "        vertical-align: middle;\n",
       "    }\n",
       "\n",
       "    .dataframe tbody tr th {\n",
       "        vertical-align: top;\n",
       "    }\n",
       "\n",
       "    .dataframe thead tr th {\n",
       "        text-align: left;\n",
       "    }\n",
       "\n",
       "    .dataframe thead tr:last-of-type th {\n",
       "        text-align: right;\n",
       "    }\n",
       "</style>\n",
       "<table border=\"1\" class=\"dataframe\">\n",
       "  <thead>\n",
       "    <tr>\n",
       "      <th></th>\n",
       "      <th></th>\n",
       "      <th>predicted_profit</th>\n",
       "    </tr>\n",
       "    <tr>\n",
       "      <th></th>\n",
       "      <th></th>\n",
       "      <th>mean</th>\n",
       "    </tr>\n",
       "    <tr>\n",
       "      <th>location_id</th>\n",
       "      <th>season</th>\n",
       "      <th></th>\n",
       "    </tr>\n",
       "  </thead>\n",
       "  <tbody>\n",
       "    <tr>\n",
       "      <th rowspan=\"2\" valign=\"top\">11</th>\n",
       "      <th>summer</th>\n",
       "      <td>26.043058</td>\n",
       "    </tr>\n",
       "    <tr>\n",
       "      <th>winter</th>\n",
       "      <td>26.212688</td>\n",
       "    </tr>\n",
       "    <tr>\n",
       "      <th rowspan=\"2\" valign=\"top\">12</th>\n",
       "      <th>summer</th>\n",
       "      <td>25.986698</td>\n",
       "    </tr>\n",
       "    <tr>\n",
       "      <th>winter</th>\n",
       "      <td>26.347799</td>\n",
       "    </tr>\n",
       "    <tr>\n",
       "      <th rowspan=\"2\" valign=\"top\">13</th>\n",
       "      <th>summer</th>\n",
       "      <td>26.079105</td>\n",
       "    </tr>\n",
       "    <tr>\n",
       "      <th>winter</th>\n",
       "      <td>26.129236</td>\n",
       "    </tr>\n",
       "  </tbody>\n",
       "</table>\n",
       "</div>"
      ],
      "text/plain": [
       "                   predicted_profit\n",
       "                               mean\n",
       "location_id season                 \n",
       "11          summer        26.043058\n",
       "            winter        26.212688\n",
       "12          summer        25.986698\n",
       "            winter        26.347799\n",
       "13          summer        26.079105\n",
       "            winter        26.129236"
      ]
     },
     "execution_count": 29,
     "metadata": {},
     "output_type": "execute_result"
    }
   ],
   "source": [
    "infer_data.groupby(['location_id', 'season'])[['predicted_profit']].agg(['mean'])"
   ]
  },
  {
   "cell_type": "markdown",
   "id": "domestic-entrepreneur",
   "metadata": {},
   "source": [
    "The following t-test shows that at the level of 95% confidence, the average daily profit is not statistically different between three locations in summer, but location 12 has a higher statistically significant average daily profit compared to location 13 and a marginally significatn differnce compare to location 11."
   ]
  },
  {
   "cell_type": "code",
   "execution_count": 30,
   "id": "portable-control",
   "metadata": {},
   "outputs": [
    {
     "name": "stdout",
     "output_type": "stream",
     "text": [
      "T-test for summer mean profit difference of location Ids 11 and 12: Ttest_indResult(statistic=-0.48052815323212295, pvalue=0.6312244520520456)\n",
      "T-test for summer mean profit difference of location Ids 11 and 13: Ttest_indResult(statistic=-0.3378233981007842, pvalue=0.7357415311241191)\n",
      "T-test for summer mean profit difference of location Ids 12 and 13: Ttest_indResult(statistic=-0.8222309076720712, pvalue=0.41162334713375137)\n",
      "\n",
      "T-test for winter mean profit difference of location Ids 11 and 12: Ttest_indResult(statistic=1.7967163676631317, pvalue=0.07344316651109663) *\n",
      "T-test for winter mean profit difference of location Ids 11 and 13: Ttest_indResult(statistic=0.9002182826675491, pvalue=0.3687946103510177)\n",
      "T-test for winter mean profit difference of location Ids 12 and 13: Ttest_indResult(statistic=2.7811596858708763, pvalue=0.005784113515818976) **\n"
     ]
    }
   ],
   "source": [
    "# winter predictions for each location\n",
    "l_11_winter = infer_data[(infer_data.location_id == 11) & (infer_data.season == 'winter')].predicted_profit.values\n",
    "l_12_winter = infer_data[(infer_data.location_id == 12) & (infer_data.season == 'winter')].predicted_profit.values\n",
    "l_13_winter = infer_data[(infer_data.location_id == 13) & (infer_data.season == 'winter')].predicted_profit.values\n",
    "# winter predictions for each location\n",
    "l_11_summer = infer_data[(infer_data.location_id == 11) & (infer_data.season == 'summer')].predicted_profit.values\n",
    "l_12_summer = infer_data[(infer_data.location_id == 12) & (infer_data.season == 'summer')].predicted_profit.values\n",
    "l_13_summer = infer_data[(infer_data.location_id == 13) & (infer_data.season == 'summer')].predicted_profit.values\n",
    "\n",
    "print(f\"T-test for summer mean profit difference of location Ids 11 and 12: {stats.ttest_ind(l_12_summer, l_11_summer)}\")\n",
    "print(f\"T-test for summer mean profit difference of location Ids 11 and 13: {stats.ttest_ind(l_11_summer, l_13_summer)}\")\n",
    "print(f\"T-test for summer mean profit difference of location Ids 12 and 13: {stats.ttest_ind(l_12_summer, l_13_summer)}\")\n",
    "print()\n",
    "print(f\"T-test for winter mean profit difference of location Ids 11 and 12: {stats.ttest_ind(l_12_winter, l_11_winter)} *\")\n",
    "print(f\"T-test for winter mean profit difference of location Ids 11 and 13: {stats.ttest_ind(l_11_winter, l_13_winter)}\")\n",
    "print(f\"T-test for winter mean profit difference of location Ids 12 and 13: {stats.ttest_ind(l_12_winter, l_13_winter)} **\")"
   ]
  },
  {
   "cell_type": "code",
   "execution_count": 36,
   "id": "religious-plane",
   "metadata": {},
   "outputs": [
    {
     "data": {
      "image/png": "[encoded data removed]",
      "text/plain": [
       "<Figure size 640x480 with 1 Axes>"
      ]
     },
     "metadata": {},
     "output_type": "display_data"
    }
   ],
   "source": [
    "infer_winter = infer_data[infer_data.season == 'winter']\n",
    "fig, ax = plt.subplots()\n",
    "sns.boxplot(infer_winter, x='location_id', y='predicted_profit').set(ylabel=None, title='Predicted Average Profit per Transaction in Winter')\n",
    "\n",
    "ax.yaxis.set_major_formatter('${x:1.0f}')\n",
    "\n",
    "plt.savefig('./assets/inference.png', bbox_inches='tight')"
   ]
  },
  {
   "cell_type": "code",
   "execution_count": null,
   "id": "suffering-mozambique",
   "metadata": {},
   "outputs": [],
   "source": []
  }
 ],
 "metadata": {
  "kernelspec": {
   "display_name": "pytorch_jupyter_a40",
   "language": "python",
   "name": "pytorch_jupyter_a40"
  },
  "language_info": {
   "codemirror_mode": {
    "name": "ipython",
    "version": 3
   },
   "file_extension": ".py",
   "mimetype": "text/x-python",
   "name": "python",
   "nbconvert_exporter": "python",
   "pygments_lexer": "ipython3",
   "version": "3.10.8"
  }
 },
 "nbformat": 4,
 "nbformat_minor": 5
}
